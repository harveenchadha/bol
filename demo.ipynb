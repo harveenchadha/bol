{
 "cells": [
  {
   "cell_type": "code",
   "execution_count": 1,
   "id": "1ddc93ec",
   "metadata": {},
   "outputs": [],
   "source": [
    "from bol.models import load_model, Wav2VecCtc"
   ]
  },
  {
   "cell_type": "markdown",
   "id": "132037d0",
   "metadata": {},
   "source": [
    "## Prediction using LM"
   ]
  },
  {
   "cell_type": "code",
   "execution_count": 36,
   "id": "5f799a03",
   "metadata": {},
   "outputs": [
    {
     "name": "stdout",
     "output_type": "stream",
     "text": [
      "Path already exists\n",
      "Model loaded on GPUs\n",
      "Decoder Loaded in 9.277404546737671 seconds\n"
     ]
    }
   ],
   "source": [
    "model_eng = load_model('en-IN',use_lm=True)\n",
    "#model_hi = load_model('hi-IN',use_lm=True)"
   ]
  },
  {
   "cell_type": "code",
   "execution_count": 41,
   "id": "6a8296d3",
   "metadata": {},
   "outputs": [
    {
     "data": {
      "text/plain": [
       "'jugs the arts which gives us an instant looks  into both ancient and'"
      ]
     },
     "execution_count": 41,
     "metadata": {},
     "output_type": "execute_result"
    }
   ],
   "source": [
    "model_eng.predict('/home/harveen/bol/Audio/ahd_00524_long_00504_eng_0007.wav')"
   ]
  },
  {
   "cell_type": "code",
   "execution_count": 42,
   "id": "c58c3988",
   "metadata": {},
   "outputs": [
    {
     "data": {
      "text/plain": [
       "'jugs the artusm which gives us an instant looks ee into both ancient and'"
      ]
     },
     "execution_count": 42,
     "metadata": {},
     "output_type": "execute_result"
    }
   ],
   "source": [
    "model_eng.predict('/home/harveen/bol/Audio/ahd_00524_long_00504_eng_0007.wav', viterbi=True)"
   ]
  },
  {
   "cell_type": "code",
   "execution_count": null,
   "id": "fbe5f04f",
   "metadata": {},
   "outputs": [],
   "source": []
  },
  {
   "cell_type": "code",
   "execution_count": 11,
   "id": "3edd9008",
   "metadata": {},
   "outputs": [
    {
     "data": {
      "text/plain": [
       "'केहर चार जनवरी दोहजार सत्रा को चीफ जस्टिस ऑफ इंडिया की शपथ लेंगे उनका कार्यकाल चार जनवरी दोहजार सत्रा से चार अगस्त दोहजार सत्रा तक रहेगा'"
      ]
     },
     "execution_count": 11,
     "metadata": {},
     "output_type": "execute_result"
    }
   ],
   "source": [
    "model_hi.predict('/home/harveen/bol/dev/eval/ahd_28_long_559_hin-005000-008000-2-1.wav')  "
   ]
  },
  {
   "cell_type": "markdown",
   "id": "96aee7fa",
   "metadata": {},
   "source": [
    "## Prediction without LM"
   ]
  },
  {
   "cell_type": "code",
   "execution_count": 4,
   "id": "25f1abc8",
   "metadata": {},
   "outputs": [
    {
     "data": {
      "text/plain": [
       "'केहर चार जनवरी दो हजार सत्रह को चीफ जस्टिस ऑफ इंडिया की शपतथ लेंगे उनका कार्यकाल चार जनवरी दो हजार सत्रह से चार अगस्त दो हजार सत्रह तक रहेगा'"
      ]
     },
     "execution_count": 4,
     "metadata": {},
     "output_type": "execute_result"
    }
   ],
   "source": [
    "model.predict('/home/harveen/bol/dev/eval/ahd_28_long_559_hin-005000-008000-2-1.wav', viterbi=True)"
   ]
  },
  {
   "cell_type": "markdown",
   "id": "dbf0b563",
   "metadata": {},
   "source": [
    "## Prediction on a Directory"
   ]
  },
  {
   "cell_type": "code",
   "execution_count": 5,
   "id": "23b6a9fb",
   "metadata": {},
   "outputs": [
    {
     "name": "stderr",
     "output_type": "stream",
     "text": [
      "100%|███████████████████████████████████████████████████████████████████████████████████████| 5/5 [00:08<00:00,  1.67s/it]\n"
     ]
    },
    {
     "data": {
      "text/plain": [
       "['ऐसा मानव हास्यस्पद है',\n",
       " 'तीसरा मौजूदा सहयोग तंत्रों का एकीकरण चौथा नवाचार अर्थात स्तरीय नए सहयोग तंत्र विकसित करना',\n",
       " 'तिरुवनंतपुरम ने अपने रिजन के नतीजे जारी कर दिए थे',\n",
       " 'गौरतलब है कि चीफ जस्टिस टीएस ठाकुर ने केंद्र सरकार को पत्र लिखकर जस्टिस',\n",
       " 'दस हजार रुपए से कम है',\n",
       " 'सिर्फ राजनीति हो रही है',\n",
       " 'बनाए रखने के लिए किए गए  कारनामों का जिक्र करें करेंगे',\n",
       " 'भाजपा के केंद्रीय नेतृत्व का संकट भी कांग्रेस की तरह ही है',\n",
       " 'से लगातार',\n",
       " 'आपने कल क्या किया',\n",
       " 'न्यूजीलैंड और आस्ट्रेलिया के बीच एक हज़ार नौ सौ पच्चीस',\n",
       " 'जीत का प्रबल दावेदार माना जा रहा है इससे भारत बढ़े आत्मविश्वास के साथ',\n",
       " 'यह बात भारत को भी कुरेद रही है दरअसल नई वैश्विक ऊर्जा रणनीति के बगैर',\n",
       " 'का खेल नहीं कहा जाता',\n",
       " 'इस एक्टर ने आज तक टीवी के विज्ञापन में काम नहीं किया उस उत्सव में किन को बुला',\n",
       " 'लेकिन अभी तक प्रथम चरण की परीक्षा के नतीजे ही घोषित नहीं हुए हैं तो दूसरे चरण की परीक्षा का आगे',\n",
       " 'संसदीय समिति की तीसरे स्तर की सुनवाई दिल्ली में हुई इसमें देश के सत्ताईस संगठनों को अपना पक्ष रखने के लिए आमंत्रित किया गया',\n",
       " 'बाल साहित्य की पुस्तकें खरीद कर',\n",
       " 'फोन के फीचर्स की बात करें',\n",
       " 'शिवसेना प्रमुख उद्धव ठाकरे ने आज रविवार को कहा कि केंद्र के']"
      ]
     },
     "execution_count": 5,
     "metadata": {},
     "output_type": "execute_result"
    }
   ],
   "source": [
    "model.predict('../dev')"
   ]
  },
  {
   "cell_type": "markdown",
   "id": "42592a2a",
   "metadata": {},
   "source": [
    "## Return Filenames of directory"
   ]
  },
  {
   "cell_type": "code",
   "execution_count": null,
   "id": "0b09680c",
   "metadata": {},
   "outputs": [],
   "source": [
    "model.predict('../dev', return_filenames=True)"
   ]
  },
  {
   "cell_type": "markdown",
   "id": "b34e855b",
   "metadata": {},
   "source": [
    "## Evaluate Model on metrics"
   ]
  },
  {
   "cell_type": "code",
   "execution_count": 6,
   "id": "cbfd84f8",
   "metadata": {},
   "outputs": [
    {
     "name": "stderr",
     "output_type": "stream",
     "text": [
      "100%|███████████████████████████████████████████████████████████████████████████████████████| 5/5 [00:08<00:00,  1.69s/it]\n",
      "100%|███████████████████████████████████████████████████████████████████████████████████| 20/20 [00:00<00:00, 8519.81it/s]"
     ]
    },
    {
     "name": "stdout",
     "output_type": "stream",
     "text": [
      "WER:  5.092592592592593\n",
      "CER:  1.7751479289940828\n"
     ]
    },
    {
     "name": "stderr",
     "output_type": "stream",
     "text": [
      "\n"
     ]
    }
   ],
   "source": [
    "wer, cer = model.predict_evaluate('../dev/eval')\n",
    "print(\"WER: \", wer)\n",
    "print(\"CER: \", cer)"
   ]
  },
  {
   "cell_type": "code",
   "execution_count": 18,
   "id": "66644dc0",
   "metadata": {},
   "outputs": [],
   "source": [
    "import torchaudio\n",
    "import torch"
   ]
  },
  {
   "cell_type": "code",
   "execution_count": 13,
   "id": "e0b2508d",
   "metadata": {},
   "outputs": [],
   "source": [
    "waveform, _ = torchaudio.load('/home/harveen/bol/dev/eval/ahd_28_long_559_hin-005000-008000-2-1.wav')"
   ]
  },
  {
   "cell_type": "code",
   "execution_count": 14,
   "id": "f85762df",
   "metadata": {},
   "outputs": [
    {
     "data": {
      "text/plain": [
       "tensor([[-0.0003, -0.0002, -0.0003,  ...,  0.0024, -0.0039,  0.0023]])"
      ]
     },
     "execution_count": 14,
     "metadata": {},
     "output_type": "execute_result"
    }
   ],
   "source": [
    "waveform"
   ]
  },
  {
   "cell_type": "code",
   "execution_count": 34,
   "id": "ec08797a",
   "metadata": {},
   "outputs": [],
   "source": [
    "waveform1, _ = torchaudio.load('/home/harveen/bol/dev/eval/ahd_28_long_559_hin-005000-008000-1-1.wav')"
   ]
  },
  {
   "cell_type": "code",
   "execution_count": 35,
   "id": "8dd0edb4",
   "metadata": {},
   "outputs": [
    {
     "ename": "RuntimeError",
     "evalue": "The size of tensor a (181601) must match the size of tensor b (32481) at non-singleton dimension 1",
     "output_type": "error",
     "traceback": [
      "\u001b[0;31m---------------------------------------------------------------------------\u001b[0m",
      "\u001b[0;31mRuntimeError\u001b[0m                              Traceback (most recent call last)",
      "\u001b[0;32m/tmp/ipykernel_49506/2912443032.py\u001b[0m in \u001b[0;36m<module>\u001b[0;34m\u001b[0m\n\u001b[0;32m----> 1\u001b[0;31m \u001b[0mtorch\u001b[0m\u001b[0;34m.\u001b[0m\u001b[0mall\u001b[0m\u001b[0;34m(\u001b[0m\u001b[0mtorch\u001b[0m\u001b[0;34m.\u001b[0m\u001b[0meq\u001b[0m\u001b[0;34m(\u001b[0m\u001b[0mwaveform\u001b[0m\u001b[0;34m,\u001b[0m \u001b[0mwaveform1\u001b[0m\u001b[0;34m)\u001b[0m\u001b[0;34m)\u001b[0m\u001b[0;34m.\u001b[0m\u001b[0mnumpy\u001b[0m\u001b[0;34m(\u001b[0m\u001b[0;34m)\u001b[0m\u001b[0;34m.\u001b[0m\u001b[0mitem\u001b[0m\u001b[0;34m(\u001b[0m\u001b[0;36m0\u001b[0m\u001b[0;34m)\u001b[0m\u001b[0;34m\u001b[0m\u001b[0;34m\u001b[0m\u001b[0m\n\u001b[0m",
      "\u001b[0;31mRuntimeError\u001b[0m: The size of tensor a (181601) must match the size of tensor b (32481) at non-singleton dimension 1"
     ]
    }
   ],
   "source": [
    "\n",
    "torch.all(torch.eq(waveform, waveform1)).numpy().item(0)"
   ]
  },
  {
   "cell_type": "code",
   "execution_count": null,
   "id": "0cca6ba4",
   "metadata": {},
   "outputs": [],
   "source": []
  }
 ],
 "metadata": {
  "kernelspec": {
   "display_name": "Python 3 (ipykernel)",
   "language": "python",
   "name": "python3"
  },
  "language_info": {
   "codemirror_mode": {
    "name": "ipython",
    "version": 3
   },
   "file_extension": ".py",
   "mimetype": "text/x-python",
   "name": "python",
   "nbconvert_exporter": "python",
   "pygments_lexer": "ipython3",
   "version": "3.7.10"
  }
 },
 "nbformat": 4,
 "nbformat_minor": 5
}
